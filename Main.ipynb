{
 "cells": [
  {
   "cell_type": "code",
   "execution_count": 1,
   "metadata": {
    "collapsed": true
   },
   "outputs": [],
   "source": [
    "import numpy as np\n",
    "import os\n",
    "\n",
    "DATA_PATH = 'drugsCom_raw'"
   ]
  },
  {
   "cell_type": "code",
   "execution_count": 11,
   "metadata": {
    "collapsed": true
   },
   "outputs": [],
   "source": [
    "import pandas as pd\n",
    "\n",
    "def load_csv(path = DATA_PATH):\n",
    "    csv_path = os.path.join(path, 'drugsComTrain_raw.tsv')\n",
    "    return pd.read_csv(csv_path,delimiter='\\t',encoding='utf-8')"
   ]
  },
  {
   "cell_type": "code",
   "execution_count": 12,
   "metadata": {},
   "outputs": [],
   "source": [
    "df = load_csv()"
   ]
  },
  {
   "cell_type": "code",
   "execution_count": 13,
   "metadata": {},
   "outputs": [
    {
     "data": {
      "text/plain": [
       "Levonorgestrel                                   3657\n",
       "Etonogestrel                                     3336\n",
       "Ethinyl estradiol / norethindrone                2850\n",
       "Nexplanon                                        2156\n",
       "Ethinyl estradiol / norgestimate                 2117\n",
       "Ethinyl estradiol / levonorgestrel               1888\n",
       "Phentermine                                      1543\n",
       "Sertraline                                       1360\n",
       "Escitalopram                                     1292\n",
       "Mirena                                           1242\n",
       "Implanon                                         1102\n",
       "Gabapentin                                       1047\n",
       "Bupropion                                        1022\n",
       "Venlafaxine                                      1016\n",
       "Miconazole                                       1000\n",
       "Citalopram                                        995\n",
       "Medroxyprogesterone                               995\n",
       "Lexapro                                           952\n",
       "Bupropion / naltrexone                            950\n",
       "Duloxetine                                        934\n",
       "Metronidazole                                     922\n",
       "Contrave                                          920\n",
       "Drospirenone / ethinyl estradiol                  890\n",
       "Depo-Provera                                      882\n",
       "Cymbalta                                          864\n",
       "Quetiapine                                        831\n",
       "Clonazepam                                        831\n",
       "Skyla                                             824\n",
       "Tramadol                                          820\n",
       "Zoloft                                            805\n",
       "                                                 ... \n",
       "Zileuton                                            1\n",
       "Podophyllum resin                                   1\n",
       "Moxeza                                              1\n",
       "Phenohytro                                          1\n",
       "Pancreaze                                           1\n",
       "Limbrel 500                                         1\n",
       "Duoplant                                            1\n",
       "Briellyn                                            1\n",
       "Norinyl 1+35                                        1\n",
       "HyoMax SR                                           1\n",
       "Isradipine                                          1\n",
       "Pamabrom                                            1\n",
       "Rocaltrol                                           1\n",
       "Omnipaque 350                                       1\n",
       "Prolastin-C                                         1\n",
       "Mucinex Fast-Max Night Time Cold & Flu              1\n",
       "Calcium acetate                                     1\n",
       "Hydralazine / hydrochlorothiazide / reserpine       1\n",
       "Codeine / guaifenesin / pseudoephedrine             1\n",
       "Zinc gluconate                                      1\n",
       "Pyridoxine                                          1\n",
       "DermaZinc Shampoo                                   1\n",
       "Gilotrif                                            1\n",
       "Vanspar                                             1\n",
       "Dexpanthenol                                        1\n",
       "Oxytocin                                            1\n",
       "Trandolapril                                        1\n",
       "Virtussin A / C                                     1\n",
       "Axid                                                1\n",
       "Cefazolin                                           1\n",
       "Name: drugName, Length: 3436, dtype: int64"
      ]
     },
     "execution_count": 13,
     "metadata": {},
     "output_type": "execute_result"
    }
   ],
   "source": [
    "df.loc[:,'drugName'].value_counts()"
   ]
  },
  {
   "cell_type": "code",
   "execution_count": null,
   "metadata": {
    "collapsed": true
   },
   "outputs": [],
   "source": []
  }
 ],
 "metadata": {
  "kernelspec": {
   "display_name": "Python 3",
   "language": "python",
   "name": "python3"
  },
  "language_info": {
   "codemirror_mode": {
    "name": "ipython",
    "version": 3
   },
   "file_extension": ".py",
   "mimetype": "text/x-python",
   "name": "python",
   "nbconvert_exporter": "python",
   "pygments_lexer": "ipython3",
   "version": "3.6.6"
  }
 },
 "nbformat": 4,
 "nbformat_minor": 2
}
